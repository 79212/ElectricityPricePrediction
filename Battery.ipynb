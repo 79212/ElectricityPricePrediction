{
 "cells": [
  {
   "cell_type": "code",
   "execution_count": 1,
   "metadata": {},
   "outputs": [],
   "source": [
    "import pandas as pd\n",
    "import matplotlib.pyplot as plt\n",
    "import numpy as np\n"
   ]
  },
  {
   "cell_type": "code",
   "execution_count": 3,
   "metadata": {},
   "outputs": [],
   "source": [
    "dataset = pd.read_csv('final_prediction.csv')\n",
    "dataset.set_index('datetime', inplace = True)"
   ]
  },
  {
   "cell_type": "code",
   "execution_count": 8,
   "metadata": {},
   "outputs": [],
   "source": [
    "dataset['Charge Status'] = 'idle'\n",
    "dataset['Charge'] = 0\n",
    "charge = 0\n",
    "\n",
    "expensive = []\n",
    "cheap = []\n",
    "\n",
    "for t in range(0, len(dataset), 24):\n",
    "\n",
    "    window = dataset['prediction'][t:t+24]\n",
    "\n",
    "    for index in window.nlargest(3).index:\n",
    "        \n",
    "        expensive.append(index)\n",
    "        \n",
    "    for index in window.nsmallest(3).index:\n",
    "        \n",
    "        cheap.append(index)\n",
    "        \n",
    "    \n",
    "    \n",
    "\n",
    "for row in dataset.index:\n",
    "       \n",
    "    if row in expensive and charge > 0:\n",
    "\n",
    "\n",
    "\n",
    "        dataset.loc[row, 'Charge Status'] = 'Discharging'\n",
    "\n",
    "        charge -= 1\n",
    "\n",
    "        dataset.loc[row:, 'Charge'] = charge\n",
    "\n",
    "        \n",
    "            \n",
    "    elif row in cheap and charge < 3:\n",
    "        \n",
    "\n",
    "        dataset.loc[row, 'Charge Status'] = 'Charging'\n",
    "\n",
    "        charge += 1\n",
    "\n",
    "        dataset.loc[row:, 'Charge'] = charge\n",
    "        \n",
    "    else:\n",
    "        continue\n",
    "\n",
    "\n",
    "\n"
   ]
  },
  {
   "cell_type": "code",
   "execution_count": 14,
   "metadata": {},
   "outputs": [],
   "source": [
    "df = pd.get_dummies(dataset)"
   ]
  },
  {
   "cell_type": "code",
   "execution_count": 17,
   "metadata": {},
   "outputs": [],
   "source": [
    "df.drop(columns = 'Charge Status_idle', inplace = True)"
   ]
  },
  {
   "cell_type": "code",
   "execution_count": 24,
   "metadata": {},
   "outputs": [],
   "source": [
    "df['Cost'] = df['actual'] * df['Charge Status_Charging'] * 0.005\n",
    "df['Income'] = df['actual'] * df['Charge Status_Discharging'] * 0.005"
   ]
  },
  {
   "cell_type": "code",
   "execution_count": 42,
   "metadata": {},
   "outputs": [
    {
     "name": "stdout",
     "output_type": "stream",
     "text": [
      "cost: £151.01955\n",
      "income: £280.2293\n"
     ]
    }
   ],
   "source": [
    "print('cost: £' + str(df['Cost'].sum()))\n",
    "print('income: £' + str(df['Income'].sum()))"
   ]
  },
  {
   "cell_type": "code",
   "execution_count": 43,
   "metadata": {},
   "outputs": [
    {
     "name": "stdout",
     "output_type": "stream",
     "text": [
      "profit: £129.20975\n"
     ]
    }
   ],
   "source": [
    "profit = df['Income'].sum() - df['Cost'].sum()\n",
    "print('profit: £' + str(profit))"
   ]
  },
  {
   "cell_type": "code",
   "execution_count": 32,
   "metadata": {},
   "outputs": [],
   "source": [
    "ROI = profit / df['Cost'].sum()"
   ]
  },
  {
   "cell_type": "code",
   "execution_count": 34,
   "metadata": {},
   "outputs": [
    {
     "data": {
      "text/plain": [
       "85.55829361165492"
      ]
     },
     "execution_count": 34,
     "metadata": {},
     "output_type": "execute_result"
    }
   ],
   "source": [
    "ROI * 100"
   ]
  }
 ],
 "metadata": {
  "kernelspec": {
   "display_name": "Python 3",
   "language": "python",
   "name": "python3"
  },
  "language_info": {
   "codemirror_mode": {
    "name": "ipython",
    "version": 3
   },
   "file_extension": ".py",
   "mimetype": "text/x-python",
   "name": "python",
   "nbconvert_exporter": "python",
   "pygments_lexer": "ipython3",
   "version": "3.7.2"
  }
 },
 "nbformat": 4,
 "nbformat_minor": 2
}
